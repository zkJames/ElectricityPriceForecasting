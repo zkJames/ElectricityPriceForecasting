{
 "cells": [
  {
   "cell_type": "code",
   "execution_count": 1,
   "metadata": {},
   "outputs": [],
   "source": [
    "import numpy as np\n",
    "import matplotlib.pyplot as plt"
   ]
  },
  {
   "cell_type": "code",
   "execution_count": 2,
   "metadata": {},
   "outputs": [],
   "source": [
    "trues = np.load(\"true.npy\")\n",
    "preds = np.load(\"pred.npy\")\n",
    "mean = np.load(\"mean.npy\")\n",
    "std = np.load(\"std.npy\")"
   ]
  },
  {
   "cell_type": "code",
   "execution_count": 6,
   "metadata": {},
   "outputs": [],
   "source": [
    "import torch\n",
    "class StandardScaler():\n",
    "    def __init__(self):\n",
    "        self.mean = 0.\n",
    "        self.std = 1.\n",
    "    \n",
    "    def fit(self, data):\n",
    "        self.mean = data.mean(0)\n",
    "        self.std = data.std(0)\n",
    "        \n",
    "    def setMeanStd(self, mean, std):\n",
    "        self.mean = mean\n",
    "        self.std = std\n",
    "\n",
    "    def transform(self, data):\n",
    "        mean = torch.from_numpy(self.mean).type_as(data).to(data.device) if torch.is_tensor(data) else self.mean\n",
    "        std = torch.from_numpy(self.std).type_as(data).to(data.device) if torch.is_tensor(data) else self.std\n",
    "        return (data - mean) / std\n",
    "\n",
    "    def inverse_transform(self, data):\n",
    "        mean = torch.from_numpy(self.mean).type_as(data).to(data.device) if torch.is_tensor(data) else self.mean\n",
    "        std = torch.from_numpy(self.std).type_as(data).to(data.device) if torch.is_tensor(data) else self.std\n",
    "        if data.shape[-1] != mean.shape[-1]:\n",
    "            mean = mean[-1:]\n",
    "            std = std[-1:]\n",
    "        return (data * std) + mean"
   ]
  },
  {
   "cell_type": "code",
   "execution_count": 4,
   "metadata": {},
   "outputs": [
    {
     "data": {
      "image/png": "[encoded data removed]",
      "text/plain": [
       "<Figure size 432x288 with 1 Axes>"
      ]
     },
     "metadata": {},
     "output_type": "display_data"
    }
   ],
   "source": [
    "plt.figure()\n",
    "plt.plot(trues[0,:,-1], label='GroundTruth')\n",
    "plt.plot(preds[0,:,-1], label='Prediction')\n",
    "plt.legend()\n",
    "plt.show()"
   ]
  },
  {
   "cell_type": "code",
   "execution_count": 7,
   "metadata": {},
   "outputs": [],
   "source": [
    "scaler = StandardScaler()\n",
    "scaler.setMeanStd(mean, std)"
   ]
  },
  {
   "cell_type": "code",
   "execution_count": 8,
   "metadata": {},
   "outputs": [
    {
     "data": {
      "text/plain": [
       "array([[[102.98999951],\n",
       "        [108.07000113],\n",
       "        [110.66499998],\n",
       "        ...,\n",
       "        [ 96.40000116],\n",
       "        [ 99.26000083],\n",
       "        [ 98.84500125]],\n",
       "\n",
       "       [[108.07000113],\n",
       "        [110.66499998],\n",
       "        [127.27000032],\n",
       "        ...,\n",
       "        [ 99.26000083],\n",
       "        [ 98.84500125],\n",
       "        [ 99.9999996 ]],\n",
       "\n",
       "       [[110.66499998],\n",
       "        [127.27000032],\n",
       "        [128.48000024],\n",
       "        ...,\n",
       "        [ 98.84500125],\n",
       "        [ 99.9999996 ],\n",
       "        [104.35500063]],\n",
       "\n",
       "       ...,\n",
       "\n",
       "       [[390.16001085],\n",
       "        [419.45999797],\n",
       "        [305.85999709],\n",
       "        ...,\n",
       "        [344.84000047],\n",
       "        [357.39000012],\n",
       "        [254.24499684]],\n",
       "\n",
       "       [[419.45999797],\n",
       "        [305.85999709],\n",
       "        [217.31500097],\n",
       "        ...,\n",
       "        [357.39000012],\n",
       "        [254.24499684],\n",
       "        [236.70000409]],\n",
       "\n",
       "       [[305.85999709],\n",
       "        [217.31500097],\n",
       "        [165.41000105],\n",
       "        ...,\n",
       "        [254.24499684],\n",
       "        [236.70000409],\n",
       "        [274.56500333]]])"
      ]
     },
     "execution_count": 8,
     "metadata": {},
     "output_type": "execute_result"
    }
   ],
   "source": [
    "np.savetxt(\"RealTrues.txt\", scaler.inverse_transform(trues))"
   ]
  }
 ],
 "metadata": {
  "kernelspec": {
   "display_name": "Python 3.6.1 ('py36')",
   "language": "python",
   "name": "python3"
  },
  "language_info": {
   "codemirror_mode": {
    "name": "ipython",
    "version": 3
   },
   "file_extension": ".py",
   "mimetype": "text/x-python",
   "name": "python",
   "nbconvert_exporter": "python",
   "pygments_lexer": "ipython3",
   "version": "3.6.1"
  },
  "orig_nbformat": 4,
  "vscode": {
   "interpreter": {
    "hash": "76e197c02f8efd7fccc868e9e140f62b1919ae7efa6986ee85995de1a7b9be4c"
   }
  }
 },
 "nbformat": 4,
 "nbformat_minor": 2
}
